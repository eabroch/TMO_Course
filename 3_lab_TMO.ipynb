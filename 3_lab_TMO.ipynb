{
 "cells": [
  {
   "cell_type": "markdown",
   "id": "3d99170c",
   "metadata": {},
   "source": [
    "# Лабораторная работа № 3. ТМО."
   ]
  },
  {
   "cell_type": "markdown",
   "id": "8549b35a",
   "metadata": {},
   "source": [
    "# Подготовка обучающей и тестовой выборки, кросс-валидация и подбор гиперпараметров на примере метода ближайших соседей."
   ]
  },
  {
   "cell_type": "markdown",
   "id": "213b340f",
   "metadata": {},
   "source": [
    "## Цель лабораторной работы: \n",
    "изучение способов подготовки выборки и подбора гиперпараметров на примере метода ближайших соседей."
   ]
  },
  {
   "cell_type": "markdown",
   "id": "4956996b",
   "metadata": {},
   "source": [
    "## Задание:\n",
    "\n",
    "1. Выберите набор данных (датасет) для решения задачи классификации или регрессии.\n",
    "2. В случае необходимости проведите удаление или заполнение пропусков и кодирование категориальных признаков.\n",
    "3. С использованием метода train_test_split разделите выборку на обучающую и тестовую.\n",
    "4. Обучите модель ближайших соседей для произвольно заданного гиперпараметра K. Оцените качество модели с помощью подходящих для задачи метрик.\n",
    "5. Произведите подбор гиперпараметра K с использованием GridSearchCV и RandomizedSearchCV и кросс-валидации, оцените качество оптимальной модели. Используйте не менее двух стратегий кросс-валидации.\n",
    "6. Сравните метрики качества исходной и оптимальной моделей."
   ]
  },
  {
   "cell_type": "markdown",
   "id": "ac15d1f8",
   "metadata": {},
   "source": [
    "### Импорт библиотек"
   ]
  },
  {
   "cell_type": "code",
   "execution_count": 95,
   "id": "2f6b1a7e",
   "metadata": {},
   "outputs": [],
   "source": [
    "import sys\n",
    "sys.path\n",
    "import pandas as pd\n",
    "import numpy as np\n",
    "np.seterr(divide='ignore', invalid='ignore')\n",
    "import seaborn as sns\n",
    "import matplotlib.pyplot as plt\n",
    "%matplotlib inline \n",
    "import warnings\n",
    "warnings.simplefilter(action=\"ignore\", category=FutureWarning)"
   ]
  },
  {
   "cell_type": "markdown",
   "id": "436e33f4",
   "metadata": {},
   "source": [
    "## Загрузка данных"
   ]
  },
  {
   "cell_type": "markdown",
   "id": "15bda90e",
   "metadata": {},
   "source": [
    "Для третьей лабораторной работы по ТМО я взял датасет с классификацией Exam Scores, который содержит оценки учащихся по различным предметам (математике, чтению, письму), а также другие данные о них, такие как пол, этническая принадлежность и тип ланча."
   ]
  },
  {
   "cell_type": "markdown",
   "id": "cc741035",
   "metadata": {},
   "source": [
    "Данный набор данных содержит:\n",
    "\n",
    "##### Контекст\n",
    "Оценки, полученные студентами\n",
    "\n",
    "##### Содержание\n",
    "Этот набор данных состоит из оценок, полученных учащимися по различным предметам.\n",
    "\n",
    "##### Признание\n",
    "http://roycekimmons.com/tools/generated_data/exams\n",
    "\n",
    "##### Вдохновение\n",
    "Понять влияние образования родителей, подготовки к тестированию и т.д. на успеваемость учащихся."
   ]
  },
  {
   "cell_type": "markdown",
   "id": "09f6ce5e",
   "metadata": {},
   "source": [
    "#### Загрузим данные:"
   ]
  },
  {
   "cell_type": "code",
   "execution_count": 96,
   "id": "6cd572ab",
   "metadata": {},
   "outputs": [],
   "source": [
    "df = pd.read_csv('StudentsPerformance.csv')"
   ]
  },
  {
   "cell_type": "markdown",
   "id": "988d73fc",
   "metadata": {},
   "source": [
    "### Основные характеристики датасета"
   ]
  },
  {
   "cell_type": "code",
   "execution_count": 97,
   "id": "2d6ea608",
   "metadata": {},
   "outputs": [
    {
     "data": {
      "text/html": [
       "<div>\n",
       "<style scoped>\n",
       "    .dataframe tbody tr th:only-of-type {\n",
       "        vertical-align: middle;\n",
       "    }\n",
       "\n",
       "    .dataframe tbody tr th {\n",
       "        vertical-align: top;\n",
       "    }\n",
       "\n",
       "    .dataframe thead th {\n",
       "        text-align: right;\n",
       "    }\n",
       "</style>\n",
       "<table border=\"1\" class=\"dataframe\">\n",
       "  <thead>\n",
       "    <tr style=\"text-align: right;\">\n",
       "      <th></th>\n",
       "      <th>gender</th>\n",
       "      <th>race/ethnicity</th>\n",
       "      <th>parental level of education</th>\n",
       "      <th>lunch</th>\n",
       "      <th>test preparation course</th>\n",
       "      <th>math score</th>\n",
       "      <th>reading score</th>\n",
       "      <th>writing score</th>\n",
       "    </tr>\n",
       "  </thead>\n",
       "  <tbody>\n",
       "    <tr>\n",
       "      <th>0</th>\n",
       "      <td>female</td>\n",
       "      <td>group B</td>\n",
       "      <td>bachelor's degree</td>\n",
       "      <td>standard</td>\n",
       "      <td>none</td>\n",
       "      <td>72</td>\n",
       "      <td>72</td>\n",
       "      <td>74</td>\n",
       "    </tr>\n",
       "    <tr>\n",
       "      <th>1</th>\n",
       "      <td>female</td>\n",
       "      <td>group C</td>\n",
       "      <td>some college</td>\n",
       "      <td>standard</td>\n",
       "      <td>completed</td>\n",
       "      <td>69</td>\n",
       "      <td>90</td>\n",
       "      <td>88</td>\n",
       "    </tr>\n",
       "    <tr>\n",
       "      <th>2</th>\n",
       "      <td>female</td>\n",
       "      <td>group B</td>\n",
       "      <td>master's degree</td>\n",
       "      <td>standard</td>\n",
       "      <td>none</td>\n",
       "      <td>90</td>\n",
       "      <td>95</td>\n",
       "      <td>93</td>\n",
       "    </tr>\n",
       "    <tr>\n",
       "      <th>3</th>\n",
       "      <td>male</td>\n",
       "      <td>group A</td>\n",
       "      <td>associate's degree</td>\n",
       "      <td>free/reduced</td>\n",
       "      <td>none</td>\n",
       "      <td>47</td>\n",
       "      <td>57</td>\n",
       "      <td>44</td>\n",
       "    </tr>\n",
       "    <tr>\n",
       "      <th>4</th>\n",
       "      <td>male</td>\n",
       "      <td>group C</td>\n",
       "      <td>some college</td>\n",
       "      <td>standard</td>\n",
       "      <td>none</td>\n",
       "      <td>76</td>\n",
       "      <td>78</td>\n",
       "      <td>75</td>\n",
       "    </tr>\n",
       "  </tbody>\n",
       "</table>\n",
       "</div>"
      ],
      "text/plain": [
       "   gender race/ethnicity parental level of education         lunch  \\\n",
       "0  female        group B           bachelor's degree      standard   \n",
       "1  female        group C                some college      standard   \n",
       "2  female        group B             master's degree      standard   \n",
       "3    male        group A          associate's degree  free/reduced   \n",
       "4    male        group C                some college      standard   \n",
       "\n",
       "  test preparation course  math score  reading score  writing score  \n",
       "0                    none          72             72             74  \n",
       "1               completed          69             90             88  \n",
       "2                    none          90             95             93  \n",
       "3                    none          47             57             44  \n",
       "4                    none          76             78             75  "
      ]
     },
     "execution_count": 97,
     "metadata": {},
     "output_type": "execute_result"
    }
   ],
   "source": [
    "# Выведем первые 5 строк из выбранного датасета.\n",
    "df.head()"
   ]
  },
  {
   "cell_type": "code",
   "execution_count": 98,
   "id": "409585fb",
   "metadata": {},
   "outputs": [
    {
     "name": "stdout",
     "output_type": "stream",
     "text": [
      "Всего строк: 1000\n",
      "Всего колонок: 8\n"
     ]
    }
   ],
   "source": [
    "total_count = df.shape[0]\n",
    "print('Всего строк: {}'.format(total_count))\n",
    "total_count = df.shape[1]\n",
    "print('Всего колонок: {}'.format(total_count))"
   ]
  },
  {
   "cell_type": "code",
   "execution_count": 99,
   "id": "916ecb44",
   "metadata": {},
   "outputs": [
    {
     "data": {
      "text/plain": [
       "gender                         object\n",
       "race/ethnicity                 object\n",
       "parental level of education    object\n",
       "lunch                          object\n",
       "test preparation course        object\n",
       "math score                      int64\n",
       "reading score                   int64\n",
       "writing score                   int64\n",
       "dtype: object"
      ]
     },
     "execution_count": 99,
     "metadata": {},
     "output_type": "execute_result"
    }
   ],
   "source": [
    "# Выведем список колонок с типами данных.\n",
    "df.dtypes"
   ]
  },
  {
   "cell_type": "markdown",
   "id": "32f0dc2f",
   "metadata": {},
   "source": [
    "### Проверка на пустые значения в датасете"
   ]
  },
  {
   "cell_type": "code",
   "execution_count": 100,
   "id": "122fbf05",
   "metadata": {},
   "outputs": [
    {
     "name": "stdout",
     "output_type": "stream",
     "text": [
      "gender - 0\n",
      "race/ethnicity - 0\n",
      "parental level of education - 0\n",
      "lunch - 0\n",
      "test preparation course - 0\n",
      "math score - 0\n",
      "reading score - 0\n",
      "writing score - 0\n"
     ]
    }
   ],
   "source": [
    "for col_empty in df.columns:\n",
    "    empty_count = df[df[col_empty].isnull()].shape[0]\n",
    "    print('{} - {}'.format(col_empty, empty_count))"
   ]
  },
  {
   "cell_type": "markdown",
   "id": "b3b53618",
   "metadata": {},
   "source": [
    "Проверил количество пустых значений по колонкам. Количество пустых значений означает, что все значения по этим колонкам заполнены."
   ]
  },
  {
   "cell_type": "code",
   "execution_count": 101,
   "id": "339f4eee",
   "metadata": {},
   "outputs": [
    {
     "data": {
      "text/plain": [
       "gender                         0\n",
       "race/ethnicity                 0\n",
       "parental level of education    0\n",
       "lunch                          0\n",
       "test preparation course        0\n",
       "math score                     0\n",
       "reading score                  0\n",
       "writing score                  0\n",
       "dtype: int64"
      ]
     },
     "execution_count": 101,
     "metadata": {},
     "output_type": "execute_result"
    }
   ],
   "source": [
    "# Проверка на пропущенные данные\n",
    "df.isnull().sum()"
   ]
  },
  {
   "cell_type": "markdown",
   "id": "b8804487",
   "metadata": {},
   "source": [
    "В моем случае удалять или заполнять пропуски не надо."
   ]
  },
  {
   "cell_type": "markdown",
   "id": "b91c6f6e",
   "metadata": {},
   "source": [
    "### math score Vs reading score"
   ]
  },
  {
   "cell_type": "code",
   "execution_count": 102,
   "id": "248dc4a4",
   "metadata": {},
   "outputs": [
    {
     "data": {
      "text/plain": [
       "<matplotlib.collections.PathCollection at 0x27d79dd63e0>"
      ]
     },
     "execution_count": 102,
     "metadata": {},
     "output_type": "execute_result"
    },
    {
     "data": {
      "image/png": "[encoded data removed]",
      "text/plain": [
       "<Figure size 640x480 with 1 Axes>"
      ]
     },
     "metadata": {},
     "output_type": "display_data"
    }
   ],
   "source": [
    "plt.scatter(df['math score'],df['reading score'])"
   ]
  },
  {
   "cell_type": "markdown",
   "id": "b311b686",
   "metadata": {},
   "source": [
    "### math score Vs writing score"
   ]
  },
  {
   "cell_type": "code",
   "execution_count": 103,
   "id": "0c506877",
   "metadata": {},
   "outputs": [
    {
     "data": {
      "text/plain": [
       "<matplotlib.collections.PathCollection at 0x27d79ebda80>"
      ]
     },
     "execution_count": 103,
     "metadata": {},
     "output_type": "execute_result"
    },
    {
     "data": {
      "image/png": "[encoded data removed]",
      "text/plain": [
       "<Figure size 640x480 with 1 Axes>"
      ]
     },
     "metadata": {},
     "output_type": "display_data"
    }
   ],
   "source": [
    "plt.scatter(df['math score'],df['writing score'])"
   ]
  },
  {
   "cell_type": "code",
   "execution_count": 104,
   "id": "17320fa0",
   "metadata": {},
   "outputs": [],
   "source": [
    "X = df[['reading score', 'writing score']]\n",
    "Y = df['math score']"
   ]
  },
  {
   "cell_type": "code",
   "execution_count": 105,
   "id": "2ec1e491",
   "metadata": {},
   "outputs": [
    {
     "data": {
      "text/html": [
       "<div>\n",
       "<style scoped>\n",
       "    .dataframe tbody tr th:only-of-type {\n",
       "        vertical-align: middle;\n",
       "    }\n",
       "\n",
       "    .dataframe tbody tr th {\n",
       "        vertical-align: top;\n",
       "    }\n",
       "\n",
       "    .dataframe thead th {\n",
       "        text-align: right;\n",
       "    }\n",
       "</style>\n",
       "<table border=\"1\" class=\"dataframe\">\n",
       "  <thead>\n",
       "    <tr style=\"text-align: right;\">\n",
       "      <th></th>\n",
       "      <th>reading score</th>\n",
       "      <th>writing score</th>\n",
       "    </tr>\n",
       "  </thead>\n",
       "  <tbody>\n",
       "    <tr>\n",
       "      <th>0</th>\n",
       "      <td>72</td>\n",
       "      <td>74</td>\n",
       "    </tr>\n",
       "    <tr>\n",
       "      <th>1</th>\n",
       "      <td>90</td>\n",
       "      <td>88</td>\n",
       "    </tr>\n",
       "    <tr>\n",
       "      <th>2</th>\n",
       "      <td>95</td>\n",
       "      <td>93</td>\n",
       "    </tr>\n",
       "    <tr>\n",
       "      <th>3</th>\n",
       "      <td>57</td>\n",
       "      <td>44</td>\n",
       "    </tr>\n",
       "    <tr>\n",
       "      <th>4</th>\n",
       "      <td>78</td>\n",
       "      <td>75</td>\n",
       "    </tr>\n",
       "    <tr>\n",
       "      <th>...</th>\n",
       "      <td>...</td>\n",
       "      <td>...</td>\n",
       "    </tr>\n",
       "    <tr>\n",
       "      <th>995</th>\n",
       "      <td>99</td>\n",
       "      <td>95</td>\n",
       "    </tr>\n",
       "    <tr>\n",
       "      <th>996</th>\n",
       "      <td>55</td>\n",
       "      <td>55</td>\n",
       "    </tr>\n",
       "    <tr>\n",
       "      <th>997</th>\n",
       "      <td>71</td>\n",
       "      <td>65</td>\n",
       "    </tr>\n",
       "    <tr>\n",
       "      <th>998</th>\n",
       "      <td>78</td>\n",
       "      <td>77</td>\n",
       "    </tr>\n",
       "    <tr>\n",
       "      <th>999</th>\n",
       "      <td>86</td>\n",
       "      <td>86</td>\n",
       "    </tr>\n",
       "  </tbody>\n",
       "</table>\n",
       "<p>1000 rows × 2 columns</p>\n",
       "</div>"
      ],
      "text/plain": [
       "     reading score  writing score\n",
       "0               72             74\n",
       "1               90             88\n",
       "2               95             93\n",
       "3               57             44\n",
       "4               78             75\n",
       "..             ...            ...\n",
       "995             99             95\n",
       "996             55             55\n",
       "997             71             65\n",
       "998             78             77\n",
       "999             86             86\n",
       "\n",
       "[1000 rows x 2 columns]"
      ]
     },
     "execution_count": 105,
     "metadata": {},
     "output_type": "execute_result"
    }
   ],
   "source": [
    "# Выведем по оси абсцисс. \n",
    "X"
   ]
  },
  {
   "cell_type": "code",
   "execution_count": 106,
   "id": "7c053539",
   "metadata": {},
   "outputs": [
    {
     "data": {
      "text/plain": [
       "0      72\n",
       "1      69\n",
       "2      90\n",
       "3      47\n",
       "4      76\n",
       "       ..\n",
       "995    88\n",
       "996    62\n",
       "997    59\n",
       "998    68\n",
       "999    77\n",
       "Name: math score, Length: 1000, dtype: int64"
      ]
     },
     "execution_count": 106,
     "metadata": {},
     "output_type": "execute_result"
    }
   ],
   "source": [
    "# Выведем по оси ординат. \n",
    "Y"
   ]
  },
  {
   "cell_type": "markdown",
   "id": "1ad97f28",
   "metadata": {},
   "source": [
    "### Разделение выборки на обучающую и тестовую"
   ]
  },
  {
   "cell_type": "code",
   "execution_count": 107,
   "id": "ca3165ef",
   "metadata": {},
   "outputs": [],
   "source": [
    "from sklearn.model_selection import train_test_split"
   ]
  },
  {
   "cell_type": "code",
   "execution_count": 108,
   "id": "37f16f10",
   "metadata": {},
   "outputs": [],
   "source": [
    "X_train, X_test, Y_train, Y_test = train_test_split(X,Y,test_size=0.2)"
   ]
  },
  {
   "cell_type": "code",
   "execution_count": 109,
   "id": "34ebbc19",
   "metadata": {},
   "outputs": [
    {
     "data": {
      "text/plain": [
       "800"
      ]
     },
     "execution_count": 109,
     "metadata": {},
     "output_type": "execute_result"
    }
   ],
   "source": [
    "# Вернет 80% от общего размера данных\n",
    "len(X_train)"
   ]
  },
  {
   "cell_type": "code",
   "execution_count": 110,
   "id": "8238da8c",
   "metadata": {},
   "outputs": [
    {
     "data": {
      "text/plain": [
       "200"
      ]
     },
     "execution_count": 110,
     "metadata": {},
     "output_type": "execute_result"
    }
   ],
   "source": [
    "len(X_test)"
   ]
  },
  {
   "cell_type": "code",
   "execution_count": 111,
   "id": "11708895",
   "metadata": {},
   "outputs": [
    {
     "data": {
      "text/html": [
       "<div>\n",
       "<style scoped>\n",
       "    .dataframe tbody tr th:only-of-type {\n",
       "        vertical-align: middle;\n",
       "    }\n",
       "\n",
       "    .dataframe tbody tr th {\n",
       "        vertical-align: top;\n",
       "    }\n",
       "\n",
       "    .dataframe thead th {\n",
       "        text-align: right;\n",
       "    }\n",
       "</style>\n",
       "<table border=\"1\" class=\"dataframe\">\n",
       "  <thead>\n",
       "    <tr style=\"text-align: right;\">\n",
       "      <th></th>\n",
       "      <th>reading score</th>\n",
       "      <th>writing score</th>\n",
       "    </tr>\n",
       "  </thead>\n",
       "  <tbody>\n",
       "    <tr>\n",
       "      <th>848</th>\n",
       "      <td>72</td>\n",
       "      <td>68</td>\n",
       "    </tr>\n",
       "    <tr>\n",
       "      <th>479</th>\n",
       "      <td>71</td>\n",
       "      <td>67</td>\n",
       "    </tr>\n",
       "    <tr>\n",
       "      <th>697</th>\n",
       "      <td>72</td>\n",
       "      <td>70</td>\n",
       "    </tr>\n",
       "    <tr>\n",
       "      <th>233</th>\n",
       "      <td>87</td>\n",
       "      <td>78</td>\n",
       "    </tr>\n",
       "    <tr>\n",
       "      <th>48</th>\n",
       "      <td>74</td>\n",
       "      <td>76</td>\n",
       "    </tr>\n",
       "    <tr>\n",
       "      <th>...</th>\n",
       "      <td>...</td>\n",
       "      <td>...</td>\n",
       "    </tr>\n",
       "    <tr>\n",
       "      <th>882</th>\n",
       "      <td>73</td>\n",
       "      <td>71</td>\n",
       "    </tr>\n",
       "    <tr>\n",
       "      <th>485</th>\n",
       "      <td>74</td>\n",
       "      <td>71</td>\n",
       "    </tr>\n",
       "    <tr>\n",
       "      <th>968</th>\n",
       "      <td>76</td>\n",
       "      <td>67</td>\n",
       "    </tr>\n",
       "    <tr>\n",
       "      <th>44</th>\n",
       "      <td>56</td>\n",
       "      <td>54</td>\n",
       "    </tr>\n",
       "    <tr>\n",
       "      <th>408</th>\n",
       "      <td>57</td>\n",
       "      <td>56</td>\n",
       "    </tr>\n",
       "  </tbody>\n",
       "</table>\n",
       "<p>800 rows × 2 columns</p>\n",
       "</div>"
      ],
      "text/plain": [
       "     reading score  writing score\n",
       "848             72             68\n",
       "479             71             67\n",
       "697             72             70\n",
       "233             87             78\n",
       "48              74             76\n",
       "..             ...            ...\n",
       "882             73             71\n",
       "485             74             71\n",
       "968             76             67\n",
       "44              56             54\n",
       "408             57             56\n",
       "\n",
       "[800 rows x 2 columns]"
      ]
     },
     "execution_count": 111,
     "metadata": {},
     "output_type": "execute_result"
    }
   ],
   "source": [
    "X_train"
   ]
  },
  {
   "cell_type": "code",
   "execution_count": 112,
   "id": "af5e7547",
   "metadata": {},
   "outputs": [],
   "source": [
    "X_train, X_test, Y_train, Y_test = train_test_split(X,Y,test_size=0.2, random_state=10)"
   ]
  },
  {
   "cell_type": "code",
   "execution_count": 113,
   "id": "91aaafad",
   "metadata": {
    "scrolled": true
   },
   "outputs": [
    {
     "data": {
      "text/html": [
       "<div>\n",
       "<style scoped>\n",
       "    .dataframe tbody tr th:only-of-type {\n",
       "        vertical-align: middle;\n",
       "    }\n",
       "\n",
       "    .dataframe tbody tr th {\n",
       "        vertical-align: top;\n",
       "    }\n",
       "\n",
       "    .dataframe thead th {\n",
       "        text-align: right;\n",
       "    }\n",
       "</style>\n",
       "<table border=\"1\" class=\"dataframe\">\n",
       "  <thead>\n",
       "    <tr style=\"text-align: right;\">\n",
       "      <th></th>\n",
       "      <th>reading score</th>\n",
       "      <th>writing score</th>\n",
       "    </tr>\n",
       "  </thead>\n",
       "  <tbody>\n",
       "    <tr>\n",
       "      <th>188</th>\n",
       "      <td>52</td>\n",
       "      <td>45</td>\n",
       "    </tr>\n",
       "    <tr>\n",
       "      <th>194</th>\n",
       "      <td>84</td>\n",
       "      <td>85</td>\n",
       "    </tr>\n",
       "    <tr>\n",
       "      <th>225</th>\n",
       "      <td>56</td>\n",
       "      <td>54</td>\n",
       "    </tr>\n",
       "    <tr>\n",
       "      <th>580</th>\n",
       "      <td>97</td>\n",
       "      <td>96</td>\n",
       "    </tr>\n",
       "    <tr>\n",
       "      <th>428</th>\n",
       "      <td>59</td>\n",
       "      <td>53</td>\n",
       "    </tr>\n",
       "    <tr>\n",
       "      <th>...</th>\n",
       "      <td>...</td>\n",
       "      <td>...</td>\n",
       "    </tr>\n",
       "    <tr>\n",
       "      <th>320</th>\n",
       "      <td>79</td>\n",
       "      <td>84</td>\n",
       "    </tr>\n",
       "    <tr>\n",
       "      <th>527</th>\n",
       "      <td>53</td>\n",
       "      <td>43</td>\n",
       "    </tr>\n",
       "    <tr>\n",
       "      <th>996</th>\n",
       "      <td>55</td>\n",
       "      <td>55</td>\n",
       "    </tr>\n",
       "    <tr>\n",
       "      <th>125</th>\n",
       "      <td>95</td>\n",
       "      <td>86</td>\n",
       "    </tr>\n",
       "    <tr>\n",
       "      <th>265</th>\n",
       "      <td>42</td>\n",
       "      <td>41</td>\n",
       "    </tr>\n",
       "  </tbody>\n",
       "</table>\n",
       "<p>800 rows × 2 columns</p>\n",
       "</div>"
      ],
      "text/plain": [
       "     reading score  writing score\n",
       "188             52             45\n",
       "194             84             85\n",
       "225             56             54\n",
       "580             97             96\n",
       "428             59             53\n",
       "..             ...            ...\n",
       "320             79             84\n",
       "527             53             43\n",
       "996             55             55\n",
       "125             95             86\n",
       "265             42             41\n",
       "\n",
       "[800 rows x 2 columns]"
      ]
     },
     "execution_count": 113,
     "metadata": {},
     "output_type": "execute_result"
    }
   ],
   "source": [
    "X_train"
   ]
  },
  {
   "cell_type": "code",
   "execution_count": 114,
   "id": "38f54848",
   "metadata": {},
   "outputs": [],
   "source": [
    "# Используем нашу модель линейной регресии\n",
    "from sklearn.linear_model import LinearRegression\n",
    "clf = LinearRegression()"
   ]
  },
  {
   "cell_type": "code",
   "execution_count": 115,
   "id": "904a8a33",
   "metadata": {},
   "outputs": [
    {
     "data": {
      "text/html": [
       "<style>#sk-container-id-3 {color: black;background-color: white;}#sk-container-id-3 pre{padding: 0;}#sk-container-id-3 div.sk-toggleable {background-color: white;}#sk-container-id-3 label.sk-toggleable__label {cursor: pointer;display: block;width: 100%;margin-bottom: 0;padding: 0.3em;box-sizing: border-box;text-align: center;}#sk-container-id-3 label.sk-toggleable__label-arrow:before {content: \"▸\";float: left;margin-right: 0.25em;color: #696969;}#sk-container-id-3 label.sk-toggleable__label-arrow:hover:before {color: black;}#sk-container-id-3 div.sk-estimator:hover label.sk-toggleable__label-arrow:before {color: black;}#sk-container-id-3 div.sk-toggleable__content {max-height: 0;max-width: 0;overflow: hidden;text-align: left;background-color: #f0f8ff;}#sk-container-id-3 div.sk-toggleable__content pre {margin: 0.2em;color: black;border-radius: 0.25em;background-color: #f0f8ff;}#sk-container-id-3 input.sk-toggleable__control:checked~div.sk-toggleable__content {max-height: 200px;max-width: 100%;overflow: auto;}#sk-container-id-3 input.sk-toggleable__control:checked~label.sk-toggleable__label-arrow:before {content: \"▾\";}#sk-container-id-3 div.sk-estimator input.sk-toggleable__control:checked~label.sk-toggleable__label {background-color: #d4ebff;}#sk-container-id-3 div.sk-label input.sk-toggleable__control:checked~label.sk-toggleable__label {background-color: #d4ebff;}#sk-container-id-3 input.sk-hidden--visually {border: 0;clip: rect(1px 1px 1px 1px);clip: rect(1px, 1px, 1px, 1px);height: 1px;margin: -1px;overflow: hidden;padding: 0;position: absolute;width: 1px;}#sk-container-id-3 div.sk-estimator {font-family: monospace;background-color: #f0f8ff;border: 1px dotted black;border-radius: 0.25em;box-sizing: border-box;margin-bottom: 0.5em;}#sk-container-id-3 div.sk-estimator:hover {background-color: #d4ebff;}#sk-container-id-3 div.sk-parallel-item::after {content: \"\";width: 100%;border-bottom: 1px solid gray;flex-grow: 1;}#sk-container-id-3 div.sk-label:hover label.sk-toggleable__label {background-color: #d4ebff;}#sk-container-id-3 div.sk-serial::before {content: \"\";position: absolute;border-left: 1px solid gray;box-sizing: border-box;top: 0;bottom: 0;left: 50%;z-index: 0;}#sk-container-id-3 div.sk-serial {display: flex;flex-direction: column;align-items: center;background-color: white;padding-right: 0.2em;padding-left: 0.2em;position: relative;}#sk-container-id-3 div.sk-item {position: relative;z-index: 1;}#sk-container-id-3 div.sk-parallel {display: flex;align-items: stretch;justify-content: center;background-color: white;position: relative;}#sk-container-id-3 div.sk-item::before, #sk-container-id-3 div.sk-parallel-item::before {content: \"\";position: absolute;border-left: 1px solid gray;box-sizing: border-box;top: 0;bottom: 0;left: 50%;z-index: -1;}#sk-container-id-3 div.sk-parallel-item {display: flex;flex-direction: column;z-index: 1;position: relative;background-color: white;}#sk-container-id-3 div.sk-parallel-item:first-child::after {align-self: flex-end;width: 50%;}#sk-container-id-3 div.sk-parallel-item:last-child::after {align-self: flex-start;width: 50%;}#sk-container-id-3 div.sk-parallel-item:only-child::after {width: 0;}#sk-container-id-3 div.sk-dashed-wrapped {border: 1px dashed gray;margin: 0 0.4em 0.5em 0.4em;box-sizing: border-box;padding-bottom: 0.4em;background-color: white;}#sk-container-id-3 div.sk-label label {font-family: monospace;font-weight: bold;display: inline-block;line-height: 1.2em;}#sk-container-id-3 div.sk-label-container {text-align: center;}#sk-container-id-3 div.sk-container {/* jupyter's `normalize.less` sets `[hidden] { display: none; }` but bootstrap.min.css set `[hidden] { display: none !important; }` so we also need the `!important` here to be able to override the default hidden behavior on the sphinx rendered scikit-learn.org. See: https://github.com/scikit-learn/scikit-learn/issues/21755 */display: inline-block !important;position: relative;}#sk-container-id-3 div.sk-text-repr-fallback {display: none;}</style><div id=\"sk-container-id-3\" class=\"sk-top-container\"><div class=\"sk-text-repr-fallback\"><pre>LinearRegression()</pre><b>In a Jupyter environment, please rerun this cell to show the HTML representation or trust the notebook. <br />On GitHub, the HTML representation is unable to render, please try loading this page with nbviewer.org.</b></div><div class=\"sk-container\" hidden><div class=\"sk-item\"><div class=\"sk-estimator sk-toggleable\"><input class=\"sk-toggleable__control sk-hidden--visually\" id=\"sk-estimator-id-3\" type=\"checkbox\" checked><label for=\"sk-estimator-id-3\" class=\"sk-toggleable__label sk-toggleable__label-arrow\">LinearRegression</label><div class=\"sk-toggleable__content\"><pre>LinearRegression()</pre></div></div></div></div></div>"
      ],
      "text/plain": [
       "LinearRegression()"
      ]
     },
     "execution_count": 115,
     "metadata": {},
     "output_type": "execute_result"
    }
   ],
   "source": [
    "# Обучим нашу модель\n",
    "clf.fit(X_train,Y_train)"
   ]
  },
  {
   "cell_type": "code",
   "execution_count": 116,
   "id": "37ae9cf1",
   "metadata": {},
   "outputs": [
    {
     "data": {
      "text/plain": [
       "array([54.61232621, 79.92264417, 61.59932177, 65.053584  , 72.88848925,\n",
       "       56.95176198, 84.05202628, 62.19597055, 48.8970993 , 85.04122229,\n",
       "       80.99031128, 54.21977898, 77.00221549, 63.24798179, 64.25283367,\n",
       "       67.83272635, 79.53009694, 76.27993626, 65.58741756, 67.64428068,\n",
       "       80.06393049, 64.00157277, 61.20677454, 71.02007181, 69.16731024,\n",
       "       82.45052562, 74.14460204, 63.38926811, 79.71854261, 78.93344816,\n",
       "       91.4159132 , 60.93985777, 52.82237986, 59.0086251 , 58.14505954,\n",
       "       67.17326235, 87.23937174, 43.66854661, 92.15384831, 64.99076878,\n",
       "       70.83162613, 52.22573108, 82.32489517, 72.88848925, 71.09854291,\n",
       "       81.39851438, 59.40117233, 45.5841234 , 84.24047196, 51.83318386,\n",
       "       67.58146545, 56.74766043, 64.78666723, 68.36655991, 81.38285851,\n",
       "       39.14661726, 73.89334114, 65.25768556, 83.51819273, 52.75956464,\n",
       "       75.14945392, 86.31299095, 45.25439139, 59.46398755, 65.44613123,\n",
       "       54.54951098, 57.94095799, 77.33194749, 74.47433404, 68.36655991,\n",
       "       70.81597026, 42.99342672, 63.24798179, 59.93500588, 39.53916449,\n",
       "       61.12830344, 52.68109354, 47.18562406, 45.05028984, 84.64867506,\n",
       "       60.20192266, 46.84023618, 52.75956464, 63.65618489, 85.18250862,\n",
       "       67.44017913, 74.88253715, 77.86578105, 76.60966826, 53.41902864,\n",
       "       69.23012547, 73.75205481, 53.82723175, 92.75049709, 90.69363397,\n",
       "       62.19597055, 83.58100795, 80.92749605, 73.29669236, 64.84948245,\n",
       "       53.6231302 , 56.15101165, 58.27068999, 55.42873242, 71.69519169,\n",
       "       86.70553818, 55.22463086, 62.65133301, 75.80891793, 66.04278001,\n",
       "       43.85699228, 78.87063293, 40.99937883, 62.46288733, 55.47589176,\n",
       "       59.3383571 , 65.58741756, 89.89288364, 65.65023279, 62.79261933,\n",
       "       74.61562037, 66.45098312, 77.33194749, 72.88848925, 76.40556671,\n",
       "       30.30686013, 55.94691009, 61.06548822, 36.28900381, 74.01897159,\n",
       "       53.08929664, 79.12189383, 72.08773892, 46.2435874 , 82.98435917,\n",
       "       54.87924298, 79.32599539, 92.75049709, 57.40712443, 72.48028615,\n",
       "       31.70425924, 78.93344816, 41.59602761, 64.91229768, 71.82082214,\n",
       "       65.38331601, 84.38175829, 81.72824639, 48.17482007, 48.63018252,\n",
       "       63.45208334, 64.58256567, 77.06503072, 67.50299435, 59.40117233,\n",
       "       72.6843877 , 79.79701372, 62.52570256, 76.20146516, 87.63191896,\n",
       "       74.34870359, 59.259886  , 79.32599539, 55.35026131, 59.79371955,\n",
       "       74.80406604, 59.3383571 , 47.51535607, 58.80452355, 69.23012547,\n",
       "       61.19111867, 76.01301948, 48.70865363, 80.18956094, 73.61076848,\n",
       "       72.08773892, 56.87329088, 54.09414853, 56.00972532, 76.73529871,\n",
       "       65.71304801, 83.7066384 , 74.28588837, 78.3211435 , 77.20631704,\n",
       "       61.72495222, 61.45803544, 78.99626338, 62.91824978, 74.55280514,\n",
       "       58.08224432, 59.6680891 , 76.46838193, 50.70270152, 64.58256567,\n",
       "       77.39476272, 62.19597055, 59.19707077, 79.79701372, 49.50940396])"
      ]
     },
     "execution_count": 116,
     "metadata": {},
     "output_type": "execute_result"
    }
   ],
   "source": [
    "clf.predict(X_test)"
   ]
  },
  {
   "cell_type": "code",
   "execution_count": 117,
   "id": "7b8b8783",
   "metadata": {},
   "outputs": [
    {
     "data": {
      "text/plain": [
       "841    64\n",
       "956    84\n",
       "544    64\n",
       "173    63\n",
       "759    69\n",
       "       ..\n",
       "274    88\n",
       "192    62\n",
       "398    74\n",
       "450    64\n",
       "520    71\n",
       "Name: math score, Length: 200, dtype: int64"
      ]
     },
     "execution_count": 117,
     "metadata": {},
     "output_type": "execute_result"
    }
   ],
   "source": [
    "Y_test"
   ]
  },
  {
   "cell_type": "code",
   "execution_count": 118,
   "id": "c893bccb",
   "metadata": {},
   "outputs": [
    {
     "data": {
      "text/plain": [
       "0.6607456209385417"
      ]
     },
     "execution_count": 118,
     "metadata": {},
     "output_type": "execute_result"
    }
   ],
   "source": [
    "clf.score(X_test,Y_test)"
   ]
  },
  {
   "cell_type": "markdown",
   "id": "2daf7e27",
   "metadata": {},
   "source": [
    "Означает, что точность составляет 66%"
   ]
  },
  {
   "cell_type": "code",
   "execution_count": 119,
   "id": "2bc9b4f2",
   "metadata": {},
   "outputs": [],
   "source": [
    "from sklearn.preprocessing import MinMaxScaler, StandardScaler"
   ]
  },
  {
   "cell_type": "code",
   "execution_count": 120,
   "id": "186dae6c",
   "metadata": {},
   "outputs": [
    {
     "data": {
      "text/html": [
       "<div>\n",
       "<style scoped>\n",
       "    .dataframe tbody tr th:only-of-type {\n",
       "        vertical-align: middle;\n",
       "    }\n",
       "\n",
       "    .dataframe tbody tr th {\n",
       "        vertical-align: top;\n",
       "    }\n",
       "\n",
       "    .dataframe thead th {\n",
       "        text-align: right;\n",
       "    }\n",
       "</style>\n",
       "<table border=\"1\" class=\"dataframe\">\n",
       "  <thead>\n",
       "    <tr style=\"text-align: right;\">\n",
       "      <th></th>\n",
       "      <th>reading score</th>\n",
       "      <th>writing score</th>\n",
       "    </tr>\n",
       "  </thead>\n",
       "  <tbody>\n",
       "    <tr>\n",
       "      <th>count</th>\n",
       "      <td>800.000000</td>\n",
       "      <td>800.000000</td>\n",
       "    </tr>\n",
       "    <tr>\n",
       "      <th>mean</th>\n",
       "      <td>0.626280</td>\n",
       "      <td>0.643222</td>\n",
       "    </tr>\n",
       "    <tr>\n",
       "      <th>std</th>\n",
       "      <td>0.174577</td>\n",
       "      <td>0.169077</td>\n",
       "    </tr>\n",
       "    <tr>\n",
       "      <th>min</th>\n",
       "      <td>0.000000</td>\n",
       "      <td>0.000000</td>\n",
       "    </tr>\n",
       "    <tr>\n",
       "      <th>25%</th>\n",
       "      <td>0.506024</td>\n",
       "      <td>0.522222</td>\n",
       "    </tr>\n",
       "    <tr>\n",
       "      <th>50%</th>\n",
       "      <td>0.638554</td>\n",
       "      <td>0.655556</td>\n",
       "    </tr>\n",
       "    <tr>\n",
       "      <th>75%</th>\n",
       "      <td>0.746988</td>\n",
       "      <td>0.755556</td>\n",
       "    </tr>\n",
       "    <tr>\n",
       "      <th>max</th>\n",
       "      <td>1.000000</td>\n",
       "      <td>1.000000</td>\n",
       "    </tr>\n",
       "  </tbody>\n",
       "</table>\n",
       "</div>"
      ],
      "text/plain": [
       "       reading score  writing score\n",
       "count     800.000000     800.000000\n",
       "mean        0.626280       0.643222\n",
       "std         0.174577       0.169077\n",
       "min         0.000000       0.000000\n",
       "25%         0.506024       0.522222\n",
       "50%         0.638554       0.655556\n",
       "75%         0.746988       0.755556\n",
       "max         1.000000       1.000000"
      ]
     },
     "execution_count": 120,
     "metadata": {},
     "output_type": "execute_result"
    }
   ],
   "source": [
    "scaler = MinMaxScaler().fit(X_train)\n",
    "X_train = pd.DataFrame(scaler.transform(X_train), columns=X_train.columns)\n",
    "X_test = pd.DataFrame(scaler.transform(X_test), columns=X_train.columns)\n",
    "X_train.describe()"
   ]
  },
  {
   "cell_type": "markdown",
   "id": "e1dd9b0a",
   "metadata": {},
   "source": [
    "### Обучение KNN с произвольным k"
   ]
  },
  {
   "cell_type": "code",
   "execution_count": 121,
   "id": "06f6849c",
   "metadata": {},
   "outputs": [],
   "source": [
    "from sklearn.metrics import mean_absolute_error, mean_squared_error, r2_score\n",
    "from sklearn.neighbors import KNeighborsRegressor"
   ]
  },
  {
   "cell_type": "code",
   "execution_count": 122,
   "id": "3197312d",
   "metadata": {},
   "outputs": [],
   "source": [
    "def print_metrics(Y_test, Y_pred):\n",
    "    print(f\"R^2: {r2_score(Y_test, Y_pred)}\")\n",
    "    print(f\"MSE: {mean_squared_error(Y_test, Y_pred)}\")\n",
    "    print(f\"MAE: {mean_absolute_error(Y_test, Y_pred)}\")"
   ]
  },
  {
   "cell_type": "code",
   "execution_count": 123,
   "id": "e16aed69",
   "metadata": {},
   "outputs": [],
   "source": [
    "def print_cv_result(cv_model, X_test, Y_test):\n",
    "    print(f'Оптимизация метрики {cv_model.scoring}: {cv_model.best_score_}')\n",
    "    print(f'Лучший параметр: {cv_model.best_params_}')\n",
    "    print('Метрики на тестовом наборе')\n",
    "    print_metrics(Y_test, cv_model.predict(X_test))\n",
    "    print()"
   ]
  },
  {
   "cell_type": "code",
   "execution_count": 124,
   "id": "085deea5",
   "metadata": {},
   "outputs": [
    {
     "name": "stdout",
     "output_type": "stream",
     "text": [
      "Test metrics for KNN with k=7\n",
      "\n",
      "R^2: 0.6030122487760627\n",
      "MSE: 82.91683673469386\n",
      "MAE: 7.663571428571429\n"
     ]
    }
   ],
   "source": [
    "base_k = 7\n",
    "base_knn = KNeighborsRegressor(n_neighbors=base_k)\n",
    "base_knn.fit(X_train, Y_train)\n",
    "Y_pred_base = base_knn.predict(X_test)\n",
    "print(f'Test metrics for KNN with k={base_k}\\n')\n",
    "print_metrics(Y_test, Y_pred_base)"
   ]
  },
  {
   "cell_type": "markdown",
   "id": "b6b4ea7e",
   "metadata": {},
   "source": [
    "### Кросс-валидация"
   ]
  },
  {
   "cell_type": "code",
   "execution_count": 125,
   "id": "7c13b88a",
   "metadata": {},
   "outputs": [],
   "source": [
    "from sklearn.model_selection import GridSearchCV, RandomizedSearchCV"
   ]
  },
  {
   "cell_type": "code",
   "execution_count": 126,
   "id": "8d527d77",
   "metadata": {},
   "outputs": [
    {
     "name": "stdout",
     "output_type": "stream",
     "text": [
      "Результаты кросс-валидации при cv=5\n",
      "\n",
      "Оптимизация метрики r2: 0.6472794612810335\n",
      "Лучший параметр: {'n_neighbors': 29}\n",
      "Метрики на тестовом наборе\n",
      "R^2: 0.648832033872066\n",
      "MSE: 73.34668846611177\n",
      "MAE: 7.142586206896551\n",
      "\n",
      "Оптимизация метрики neg_mean_squared_error: -81.75816884661117\n",
      "Лучший параметр: {'n_neighbors': 29}\n",
      "Метрики на тестовом наборе\n",
      "R^2: 0.648832033872066\n",
      "MSE: 73.34668846611177\n",
      "MAE: 7.142586206896551\n",
      "\n",
      "Оптимизация метрики neg_mean_absolute_error: -7.281544117647059\n",
      "Лучший параметр: {'n_neighbors': 17}\n",
      "Метрики на тестовом наборе\n",
      "R^2: 0.622707027843075\n",
      "MSE: 78.80328719723184\n",
      "MAE: 7.406470588235295\n",
      "\n",
      "Результаты кросс-валидации при cv=10\n",
      "\n",
      "Оптимизация метрики r2: 0.6392084499907589\n",
      "Лучший параметр: {'n_neighbors': 26}\n",
      "Метрики на тестовом наборе\n",
      "R^2: 0.6446175206603122\n",
      "MSE: 74.2269526627219\n",
      "MAE: 7.222307692307693\n",
      "\n",
      "Оптимизация метрики neg_mean_squared_error: -82.06158284023668\n",
      "Лучший параметр: {'n_neighbors': 26}\n",
      "Метрики на тестовом наборе\n",
      "R^2: 0.6446175206603122\n",
      "MSE: 74.2269526627219\n",
      "MAE: 7.222307692307693\n",
      "\n",
      "Оптимизация метрики neg_mean_absolute_error: -7.301923076923077\n",
      "Лучший параметр: {'n_neighbors': 26}\n",
      "Метрики на тестовом наборе\n",
      "R^2: 0.6446175206603122\n",
      "MSE: 74.2269526627219\n",
      "MAE: 7.222307692307693\n",
      "\n"
     ]
    }
   ],
   "source": [
    "metrics = ['r2', 'neg_mean_squared_error', 'neg_mean_absolute_error']\n",
    "cv_values = [5, 10]\n",
    "\n",
    "for cv in cv_values:\n",
    "    print(f'Результаты кросс-валидации при cv={cv}\\n')\n",
    "    for metric in metrics:    \n",
    "        params = {'n_neighbors': range(1, 30)}\n",
    "        knn_cv = GridSearchCV(KNeighborsRegressor(), params, cv=cv, scoring=metric, n_jobs=-1)\n",
    "        knn_cv.fit(X_train, Y_train)\n",
    "        print_cv_result(knn_cv, X_test, Y_test)"
   ]
  },
  {
   "cell_type": "code",
   "execution_count": 127,
   "id": "75089d5b",
   "metadata": {},
   "outputs": [],
   "source": [
    "best_k = 4\n",
    "Y_pred_best = KNeighborsRegressor(n_neighbors=best_k).fit(X_train, Y_train).predict(X_test)"
   ]
  },
  {
   "cell_type": "markdown",
   "id": "8a83b9fa",
   "metadata": {},
   "source": [
    "### Сравнение исходной и оптимальной моделей"
   ]
  },
  {
   "cell_type": "code",
   "execution_count": 128,
   "id": "363d0fd6",
   "metadata": {},
   "outputs": [
    {
     "name": "stdout",
     "output_type": "stream",
     "text": [
      "Basic model\n",
      "\n",
      "R^2: 0.6030122487760627\n",
      "MSE: 82.91683673469386\n",
      "MAE: 7.663571428571429\n",
      "_______________________\n",
      "\n",
      "Optimal model\n",
      "\n",
      "R^2: 0.5655611358486505\n",
      "MSE: 90.7390625\n",
      "MAE: 7.94125\n"
     ]
    }
   ],
   "source": [
    "print('Basic model\\n')\n",
    "print_metrics(Y_test, Y_pred_base)\n",
    "print('_______________________')\n",
    "print('\\nOptimal model\\n')\n",
    "print_metrics(Y_test, Y_pred_best)"
   ]
  },
  {
   "cell_type": "markdown",
   "id": "5d295949",
   "metadata": {},
   "source": [
    "### Визуализация оптимальной модели"
   ]
  },
  {
   "cell_type": "code",
   "execution_count": 129,
   "id": "0fe679fd",
   "metadata": {},
   "outputs": [
    {
     "data": {
      "text/html": [
       "<div>\n",
       "<style scoped>\n",
       "    .dataframe tbody tr th:only-of-type {\n",
       "        vertical-align: middle;\n",
       "    }\n",
       "\n",
       "    .dataframe tbody tr th {\n",
       "        vertical-align: top;\n",
       "    }\n",
       "\n",
       "    .dataframe thead th {\n",
       "        text-align: right;\n",
       "    }\n",
       "</style>\n",
       "<table border=\"1\" class=\"dataframe\">\n",
       "  <thead>\n",
       "    <tr style=\"text-align: right;\">\n",
       "      <th></th>\n",
       "      <th>Y_test</th>\n",
       "      <th>Y_pred_best</th>\n",
       "    </tr>\n",
       "  </thead>\n",
       "  <tbody>\n",
       "    <tr>\n",
       "      <th>601</th>\n",
       "      <td>29</td>\n",
       "      <td>33.00</td>\n",
       "    </tr>\n",
       "    <tr>\n",
       "      <th>339</th>\n",
       "      <td>35</td>\n",
       "      <td>57.25</td>\n",
       "    </tr>\n",
       "    <tr>\n",
       "      <th>211</th>\n",
       "      <td>35</td>\n",
       "      <td>23.00</td>\n",
       "    </tr>\n",
       "    <tr>\n",
       "      <th>862</th>\n",
       "      <td>39</td>\n",
       "      <td>34.25</td>\n",
       "    </tr>\n",
       "    <tr>\n",
       "      <th>298</th>\n",
       "      <td>40</td>\n",
       "      <td>48.00</td>\n",
       "    </tr>\n",
       "  </tbody>\n",
       "</table>\n",
       "</div>"
      ],
      "text/plain": [
       "     Y_test  Y_pred_best\n",
       "601      29        33.00\n",
       "339      35        57.25\n",
       "211      35        23.00\n",
       "862      39        34.25\n",
       "298      40        48.00"
      ]
     },
     "execution_count": 129,
     "metadata": {},
     "output_type": "execute_result"
    }
   ],
   "source": [
    "res = pd.DataFrame({'Y_test': Y_test, 'Y_pred_best': Y_pred_best}).sort_values(by='Y_test')\n",
    "res.head()"
   ]
  },
  {
   "cell_type": "code",
   "execution_count": 133,
   "id": "5b630d10",
   "metadata": {},
   "outputs": [
    {
     "ename": "TypeError",
     "evalue": "scatterplot() takes from 0 to 1 positional arguments but 2 were given",
     "output_type": "error",
     "traceback": [
      "\u001b[1;31m---------------------------------------------------------------------------\u001b[0m",
      "\u001b[1;31mTypeError\u001b[0m                                 Traceback (most recent call last)",
      "Cell \u001b[1;32mIn[133], line 2\u001b[0m\n\u001b[0;32m      1\u001b[0m plt\u001b[38;5;241m.\u001b[39mfigure(figsize\u001b[38;5;241m=\u001b[39m(\u001b[38;5;241m16\u001b[39m, \u001b[38;5;241m5\u001b[39m))\n\u001b[1;32m----> 2\u001b[0m \u001b[43msns\u001b[49m\u001b[38;5;241;43m.\u001b[39;49m\u001b[43mscatterplot\u001b[49m\u001b[43m(\u001b[49m\u001b[38;5;28;43mrange\u001b[39;49m\u001b[43m(\u001b[49m\u001b[43mres\u001b[49m\u001b[38;5;241;43m.\u001b[39;49m\u001b[43mshape\u001b[49m\u001b[43m[\u001b[49m\u001b[38;5;241;43m0\u001b[39;49m\u001b[43m]\u001b[49m\u001b[43m)\u001b[49m\u001b[43m,\u001b[49m\u001b[43m \u001b[49m\u001b[43mres\u001b[49m\u001b[43m[\u001b[49m\u001b[38;5;124;43m'\u001b[39;49m\u001b[38;5;124;43mY_test\u001b[39;49m\u001b[38;5;124;43m'\u001b[39;49m\u001b[43m]\u001b[49m\u001b[43m,\u001b[49m\u001b[43m \u001b[49m\u001b[43mlabel\u001b[49m\u001b[38;5;241;43m=\u001b[39;49m\u001b[38;5;124;43m'\u001b[39;49m\u001b[38;5;124;43mactual\u001b[39;49m\u001b[38;5;124;43m'\u001b[39;49m\u001b[43m)\u001b[49m\n\u001b[0;32m      3\u001b[0m sns\u001b[38;5;241m.\u001b[39mscatterplot(\u001b[38;5;28mrange\u001b[39m(res\u001b[38;5;241m.\u001b[39mshape[\u001b[38;5;241m0\u001b[39m]), res[\u001b[38;5;124m'\u001b[39m\u001b[38;5;124mY_pred_best\u001b[39m\u001b[38;5;124m'\u001b[39m], label\u001b[38;5;241m=\u001b[39m\u001b[38;5;124m'\u001b[39m\u001b[38;5;124mpredicted\u001b[39m\u001b[38;5;124m'\u001b[39m, alpha\u001b[38;5;241m=\u001b[39m\u001b[38;5;241m0.6\u001b[39m)\n\u001b[0;32m      4\u001b[0m plt\u001b[38;5;241m.\u001b[39mylabel(\u001b[38;5;124m'\u001b[39m\u001b[38;5;124mprice\u001b[39m\u001b[38;5;124m'\u001b[39m)\n",
      "\u001b[1;31mTypeError\u001b[0m: scatterplot() takes from 0 to 1 positional arguments but 2 were given"
     ]
    },
    {
     "data": {
      "text/plain": [
       "<Figure size 1600x500 with 0 Axes>"
      ]
     },
     "metadata": {},
     "output_type": "display_data"
    }
   ],
   "source": [
    "plt.figure(figsize=(16, 5))\n",
    "sns.scatterplot(range(res.shape[0]), res['Y_test'], label='actual')\n",
    "sns.scatterplot(range(res.shape[0]), res['Y_pred_best'], label='predicted', alpha=0.6)\n",
    "plt.ylabel('price')\n",
    "plt.xlabel('')\n",
    "plt.title(f'Best KNN model results (k={best_k})')\n",
    "plt.tick_params(axis='x', bottom=False, labelbottom=False)\n",
    "plt.show()"
   ]
  },
  {
   "cell_type": "code",
   "execution_count": null,
   "id": "3aad3524",
   "metadata": {},
   "outputs": [],
   "source": []
  },
  {
   "cell_type": "code",
   "execution_count": null,
   "id": "925d3b86",
   "metadata": {},
   "outputs": [],
   "source": []
  },
  {
   "cell_type": "code",
   "execution_count": null,
   "id": "464c80ed",
   "metadata": {},
   "outputs": [],
   "source": []
  }
 ],
 "metadata": {
  "kernelspec": {
   "display_name": "Python 3 (ipykernel)",
   "language": "python",
   "name": "python3"
  },
  "language_info": {
   "codemirror_mode": {
    "name": "ipython",
    "version": 3
   },
   "file_extension": ".py",
   "mimetype": "text/x-python",
   "name": "python",
   "nbconvert_exporter": "python",
   "pygments_lexer": "ipython3",
   "version": "3.10.0"
  }
 },
 "nbformat": 4,
 "nbformat_minor": 5
}
